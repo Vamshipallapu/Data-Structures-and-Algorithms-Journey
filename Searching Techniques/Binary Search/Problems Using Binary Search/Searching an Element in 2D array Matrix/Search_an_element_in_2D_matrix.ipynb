{
  "nbformat": 4,
  "nbformat_minor": 0,
  "metadata": {
    "colab": {
      "provenance": []
    },
    "kernelspec": {
      "name": "python3",
      "display_name": "Python 3"
    },
    "language_info": {
      "name": "python"
    }
  },
  "cells": [
    {
      "cell_type": "code",
      "source": [
        "##Function Definition\n",
        "\n",
        "def BinarySearchin2DMatrix(matrix,target):\n",
        "  #number of rows\n",
        "  m=len(matrix)\n",
        "  ##if there are zero rows\n",
        "  if m==0:\n",
        "    return False\n",
        "  ## num of columns\n",
        "  n=len(matrix[0])\n",
        "\n",
        "  left, right= 0, m*n-1\n",
        "  while left<=right:\n",
        "    ##mid = i+(j-i)//2\n",
        "    mid=left+(right-left)//2\n",
        "    ##row and col value of element\n",
        "    mid_element=matrix[mid//n][mid%n]\n",
        "    if target == mid_element:\n",
        "      return True\n",
        "    ##think a virtual linear array created with 2d matrix\n",
        "    elif target<mid_element:\n",
        "      right=mid-1\n",
        "    else:\n",
        "      left=mid+1\n",
        "  return False\n",
        "\n",
        "\n",
        "\n",
        "##Driver code\n",
        "matrix=[[1,3,5,7],[10,11,16,20],[23,30,34,60]]\n",
        "target=3\n",
        "\n",
        "#Function call\n",
        "result= BinarySearchin2DMatrix(matrix,target)\n",
        "print(result)"
      ],
      "metadata": {
        "colab": {
          "base_uri": "https://localhost:8080/"
        },
        "id": "5338R1n7lHnB",
        "outputId": "82cbb177-1486-476f-d1dd-b320f78d58cf"
      },
      "execution_count": 14,
      "outputs": [
        {
          "output_type": "stream",
          "name": "stdout",
          "text": [
            "True\n"
          ]
        }
      ]
    },
    {
      "cell_type": "code",
      "source": [],
      "metadata": {
        "id": "d7cyf37OuKJI"
      },
      "execution_count": null,
      "outputs": []
    }
  ]
}