{
  "nbformat": 4,
  "nbformat_minor": 0,
  "metadata": {
    "colab": {
      "provenance": []
    },
    "kernelspec": {
      "name": "python3",
      "display_name": "Python 3"
    },
    "language_info": {
      "name": "python"
    }
  },
  "cells": [
    {
      "cell_type": "code",
      "execution_count": 3,
      "metadata": {
        "colab": {
          "base_uri": "https://localhost:8080/"
        },
        "id": "jNmxIqwkjYQI",
        "outputId": "1605c267-cb73-4814-ff4f-36e6a80d2444"
      },
      "outputs": [
        {
          "output_type": "stream",
          "name": "stdout",
          "text": [
            "search element is present at the index 12\n"
          ]
        }
      ],
      "source": [
        "##Implementation of Binary Search\n",
        "def BinarySearch(arr,i,j,x):\n",
        "  while i<=j:\n",
        "    mid=i+(j-i)//2\n",
        "    if arr[mid]==x:\n",
        "      return mid\n",
        "    elif arr[mid]<x:\n",
        "      ##Recursion call the same function again\n",
        "      return BinarySearch(arr,mid+1,j,x)\n",
        "    else:\n",
        "      return BinarySearch(arr,i,mid-1,x)\n",
        "  ##Searching Element is not present in the array\n",
        "  return -1\n",
        "\n",
        "##Driver code\n",
        "##Sorted array\n",
        "\n",
        "arr=[2,4,6,8,9,13,16,19,25,27,29,33,38,42,51]\n",
        "x=38\n",
        "i=0\n",
        "j=len(arr)-1\n",
        "\n",
        "#Function call\n",
        "result=BinarySearch(arr,i,j,x)\n",
        "print(\"search element is present at the index\",result)"
      ]
    },
    {
      "cell_type": "code",
      "source": [
        "##Implementation of Binary Search\n",
        "##Without Recursion\n",
        "\n",
        "def BinarySearch(arr,i,j,x):\n",
        "  while i<=j:\n",
        "    mid=i+(j-i)//2\n",
        "    if arr[mid]==x:\n",
        "      return mid\n",
        "    elif arr[mid]<x:\n",
        "      ##Update the i Parameter\n",
        "      i=mid+1\n",
        "    else:\n",
        "      ##Update j parameter\n",
        "      j=mid-1\n",
        "\n",
        "  ##Searching Element is not present in the array\n",
        "  return -1\n",
        "\n",
        "##Driver code\n",
        "##Sorted array\n",
        "\n",
        "arr=[2,4,6,8,9,13,16,19,25,27,29,33,38,42,51]\n",
        "x=38\n",
        "i=0\n",
        "j=len(arr)-1\n",
        "\n",
        "#Function call\n",
        "result=BinarySearch(arr,i,j,x)\n",
        "print(\"search element is present at the index\",result)"
      ],
      "metadata": {
        "colab": {
          "base_uri": "https://localhost:8080/"
        },
        "id": "gQBZCvZaklNp",
        "outputId": "d8d6ddc7-7ad4-4a91-a71b-89fcce914519"
      },
      "execution_count": 4,
      "outputs": [
        {
          "output_type": "stream",
          "name": "stdout",
          "text": [
            "search element is present at the index 12\n"
          ]
        }
      ]
    },
    {
      "cell_type": "code",
      "source": [],
      "metadata": {
        "id": "5338R1n7lHnB"
      },
      "execution_count": null,
      "outputs": []
    }
  ]
}