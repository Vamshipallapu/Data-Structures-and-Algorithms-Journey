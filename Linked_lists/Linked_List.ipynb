{
  "nbformat": 4,
  "nbformat_minor": 0,
  "metadata": {
    "colab": {
      "provenance": []
    },
    "kernelspec": {
      "name": "python3",
      "display_name": "Python 3"
    },
    "language_info": {
      "name": "python"
    }
  },
  "cells": [
    {
      "cell_type": "markdown",
      "source": [
        "**Insertion in the Linked List**"
      ],
      "metadata": {
        "id": "FPcdLX0zPKKM"
      }
    },
    {
      "cell_type": "markdown",
      "source": [
        "To insert a node at the start/beginning/front of a Linked List, we need to:\n",
        "\n",
        "Make the first node of Linked List linked to the new node\n",
        "\n",
        "Remove the head from the original first node of Linked List\n",
        "\n",
        "Make the new node as the Head of the Linked List."
      ],
      "metadata": {
        "id": "i2zO1OYNPOWL"
      }
    },
    {
      "cell_type": "code",
      "source": [
        "# Initially, when you create a new node, the next pointer\n",
        "# is set to None because the new node is not connected to any other nodes"
      ],
      "metadata": {
        "id": "Pdoo6Gl8QBLr"
      },
      "execution_count": 3,
      "outputs": []
    },
    {
      "cell_type": "code",
      "execution_count": 1,
      "metadata": {
        "id": "S0a7VriTPDjh"
      },
      "outputs": [],
      "source": [
        "class Node:\n",
        "  def __init__(self,data):\n",
        "    self.data=data\n",
        "    self.next=None\n",
        "\n",
        "class LinkedList:\n",
        "  def __init__(self):\n",
        "    self.head=None\n",
        "\n",
        "  def insert_at_beginning(self,data):\n",
        "    new_node=Node(data) #Creating a New Node\n",
        "    new_node.next=self.head #Update the next pointer of the new node to head as we are inserting in the beginning\n",
        "    #step 3: update the head of the linked list\n",
        "    self.head=new_node\n",
        "\n",
        "  def display(self):\n",
        "    current=self.head # Initiaizing a temeperory current variable to iterate through the linked list\n",
        "    while current: #Till current is not None\n",
        "      print(current.data,end=\"->\")\n",
        "      current=current.next\n",
        "    print(\"None\")\n",
        "\n",
        "\n",
        "# Create a linked list\n",
        "my_list = LinkedList()\n",
        "\n",
        "# Insert elements at the beginning\n",
        "my_list.insert_at_beginning(3)\n",
        "my_list.insert_at_beginning(2)\n",
        "my_list.insert_at_beginning(1)"
      ]
    },
    {
      "cell_type": "code",
      "source": [
        "# Display the linked list\n",
        "my_list.display()"
      ],
      "metadata": {
        "colab": {
          "base_uri": "https://localhost:8080/"
        },
        "id": "JRBh2jkESOE0",
        "outputId": "7d937d42-109a-45a3-b1c0-af576ca10e54"
      },
      "execution_count": 2,
      "outputs": [
        {
          "output_type": "stream",
          "name": "stdout",
          "text": [
            "1->2->3->None\n"
          ]
        }
      ]
    },
    {
      "cell_type": "markdown",
      "source": [
        "if not self.head:: This condition checks whether the linked list is currently empty. If self.head is None, it means that the linked list is empty, and there are no nodes in the list. In this case, the new node becomes the head of the list, and the method returns. This is a special case because, in an empty list, adding a node at the end is the same as adding it at the beginning"
      ],
      "metadata": {
        "id": "lHsiuUqFjpwM"
      }
    },
    {
      "cell_type": "code",
      "source": [
        "class Node:\n",
        "  def __init__(self,data):\n",
        "    self.data=data\n",
        "    self.next=None\n",
        "\n",
        "class LinkedList:\n",
        "  def __init__(self):\n",
        "    self.head=None\n",
        "\n",
        "  def insert_at_end(self,data):\n",
        "    new_node=Node(data)\n",
        "    if not self.head:\n",
        "      self.head=new_node\n",
        "      return\n",
        "\n",
        "    current=self.head #line initializes a temporary variable current with the head of the linked list.\n",
        "    while current.next: #this loop continues till current.next is not None\n",
        "      current=current.next\n",
        "    current.next=new_node\n",
        "\n",
        "\n",
        "  def display(self):\n",
        "    current=self.head # Initiaizing a temeperory current variable to iterate through the linked list\n",
        "    while current: #Till current is not None\n",
        "      print(current.data,end=\"->\")\n",
        "      current=current.next\n",
        "    print(\"None\")\n",
        "\n",
        "\n",
        "# Create a linked list\n",
        "my_list = LinkedList()\n",
        "\n",
        "# Insert elements at the beginning\n",
        "my_list.insert_at_end(3)\n",
        "my_list.insert_at_end(2)\n",
        "my_list.insert_at_end(1)"
      ],
      "metadata": {
        "id": "pXZQXmkaSVm9"
      },
      "execution_count": 10,
      "outputs": []
    },
    {
      "cell_type": "code",
      "source": [
        "# Display the linked list\n",
        "my_list.display()"
      ],
      "metadata": {
        "colab": {
          "base_uri": "https://localhost:8080/"
        },
        "id": "UxJ4TJVBkdIZ",
        "outputId": "ac8d835d-32a4-4b16-f59c-59ed9170b3a1"
      },
      "execution_count": 11,
      "outputs": [
        {
          "output_type": "stream",
          "name": "stdout",
          "text": [
            "3->2->1->None\n"
          ]
        }
      ]
    },
    {
      "cell_type": "code",
      "source": [
        "class Node:\n",
        "  def __init__(self,data):\n",
        "    self.data=data\n",
        "    self.next=None\n",
        "class LinkedList:\n",
        "  def __init__(self):\n",
        "    self.head=None\n",
        "\n",
        "\n",
        "  def insert_at_end(self,data):\n",
        "    new_node=Node(data)\n",
        "    if not self.head:\n",
        "      self.head=new_node\n",
        "      return\n",
        "\n",
        "    current=self.head #line initializes a temporary variable current with the head of the linked list.\n",
        "    while current.next: #this loop continues till current.next is not None\n",
        "      current=current.next\n",
        "    current.next=new_node\n",
        "\n",
        "  def insert_at_position(self,data,position):\n",
        "    if position<1:\n",
        "      print(\"invalid position\")\n",
        "      return\n",
        "\n",
        "    new_node=Node(data)\n",
        "\n",
        "    if position==1:\n",
        "      new_node.next=self.head\n",
        "      self.head=new_node\n",
        "      return\n",
        "\n",
        "    current=self.head # Initailize the current variable to iterate\n",
        "    for i in range(1,position-1):\n",
        "      if current is None:\n",
        "        print(\"position out of range\")\n",
        "        return\n",
        "      current=current.next #iterate till last means till None\n",
        "\n",
        "    new_node.next=current.next ## current --> current.next  ==>  current --> new_node --> current.next ==> we can say new_node.next = current.next\n",
        "    current.next=new_node  #from diagram current --> new_node #current.next is new_node\n",
        "\n",
        "\n",
        "\n",
        "  def display(self):\n",
        "    current=self.head # Initiaizing a temeperory current variable to iterate through the linked list\n",
        "    while current: #Till current is not None\n",
        "      print(current.data,end=\"->\")\n",
        "      current=current.next\n",
        "    print(\"None\")\n",
        "\n",
        "\n",
        "# Create a linked list\n",
        "my_list = LinkedList()\n",
        "\n",
        "\n",
        "\n",
        "my_list.insert_at_end(3)\n",
        "my_list.insert_at_end(2)\n",
        "my_list.insert_at_end(1)\n",
        "\n",
        "# Insert elements at the beginning\n",
        "my_list.insert_at_position(4,3)\n",
        "my_list.insert_at_position(5,4)\n",
        "my_list.insert_at_position(6,2)"
      ],
      "metadata": {
        "id": "rSDUvEQXkfY6"
      },
      "execution_count": 13,
      "outputs": []
    },
    {
      "cell_type": "code",
      "source": [
        "# Display the linked list\n",
        "my_list.display()"
      ],
      "metadata": {
        "colab": {
          "base_uri": "https://localhost:8080/"
        },
        "id": "_e4tB2sAoyf-",
        "outputId": "6a0b48da-7bf9-48d3-ce3f-22e2f5e51b87"
      },
      "execution_count": 14,
      "outputs": [
        {
          "output_type": "stream",
          "name": "stdout",
          "text": [
            "3->6->2->4->5->1->None\n"
          ]
        }
      ]
    },
    {
      "cell_type": "markdown",
      "source": [
        "**Searching an Element in the Linked List**"
      ],
      "metadata": {
        "id": "rlxgWKBZx9Gk"
      }
    },
    {
      "cell_type": "code",
      "source": [
        "class Node:\n",
        "  def __init__(self,data):\n",
        "    self.data=data\n",
        "    self.next=None\n",
        "\n",
        "class LinkedList:\n",
        "  def __init__(self):\n",
        "    self.head=None\n",
        "\n",
        "  #function to insert node at the beginning of the linked list\n",
        "  def push(self,new_data):\n",
        "    new_node=Node(new_data)\n",
        "    new_node.next=self.head # making new node next as head\n",
        "    self.head=new_node # move head to point to new_node or making head as new _node\n",
        "\n",
        "  #funtion to check whether the value is present in the linked list\n",
        "  def search(self,x):\n",
        "    current=self.head #initialize current to head\n",
        "    #loop till current not equa to none\n",
        "    while current!=None:\n",
        "      if current.data==x:\n",
        "        return True\n",
        "      current=current.next\n",
        "    return False\n",
        "\n",
        "\n",
        "# Driver code\n",
        "if __name__ == '__main__':\n",
        "\n",
        "    # Start with the empty list\n",
        "    llist = LinkedList()\n",
        "    x = 21\n",
        "\n",
        "    ''' Use push() to construct below list\n",
        "        14->21->11->30->10 '''\n",
        "    llist.push(10)\n",
        "    llist.push(30)\n",
        "    llist.push(11)\n",
        "    llist.push(21)\n",
        "    llist.push(14)\n",
        "\n",
        "       # Function call\n",
        "    if llist.search(x):\n",
        "        print(\"Yes\")\n",
        "    else:\n",
        "        print(\"No\")\n"
      ],
      "metadata": {
        "colab": {
          "base_uri": "https://localhost:8080/"
        },
        "id": "_SF1jaKApXr9",
        "outputId": "57565057-00c1-440d-b4c7-6a34c75e7ee7"
      },
      "execution_count": 15,
      "outputs": [
        {
          "output_type": "stream",
          "name": "stdout",
          "text": [
            "Yes\n"
          ]
        }
      ]
    },
    {
      "cell_type": "markdown",
      "source": [
        "** Finding the length of the linked list**"
      ],
      "metadata": {
        "id": "t2UcIA2zzY9S"
      }
    },
    {
      "cell_type": "code",
      "source": [
        "class Node:\n",
        "  def __init__(self,data):\n",
        "    self.data=data\n",
        "    self.next=None\n",
        "\n",
        "class LinkedList:\n",
        "  def __init__(self):\n",
        "    self.head=None\n",
        "\n",
        "\n",
        "  #function to insert node at the beginning of the linked list\n",
        "  def push(self,new_data):\n",
        "    new_node=Node(new_data)\n",
        "    new_node.next=self.head # making new node next as head\n",
        "    self.head=new_node # move head to point to new_node or making head as new _node\n",
        "\n",
        "  def getcount(self):\n",
        "    count=0\n",
        "    temp=self.head\n",
        "    while temp!=None:\n",
        "      count+=1\n",
        "      temp=temp.next\n",
        "    return count\n",
        "\n",
        "\n",
        "# Driver code\n",
        "if __name__ == '__main__':\n",
        "    llist = LinkedList()\n",
        "    llist.push(1)\n",
        "    llist.push(3)\n",
        "    llist.push(1)\n",
        "    llist.push(2)\n",
        "    llist.push(1)\n",
        "\n",
        "    # Function call\n",
        "    print(\"Count of nodes is :\", llist.getcount())"
      ],
      "metadata": {
        "colab": {
          "base_uri": "https://localhost:8080/"
        },
        "id": "YrTcZZijzijD",
        "outputId": "c9ea7b98-07e6-4b4f-ccf5-58351815261a"
      },
      "execution_count": 17,
      "outputs": [
        {
          "output_type": "stream",
          "name": "stdout",
          "text": [
            "Count of nodes is : 5\n"
          ]
        }
      ]
    },
    {
      "cell_type": "markdown",
      "source": [
        "** Reversing a LinkedList**"
      ],
      "metadata": {
        "id": "CuWDuoJw1fTN"
      }
    },
    {
      "cell_type": "code",
      "source": [
        "class Node:\n",
        "  def __init__(self,data):\n",
        "    self.data=data\n",
        "    self.next=None\n",
        "\n",
        "class LinkedList:\n",
        "  def __init__(self):\n",
        "    self.head=None\n",
        "\n",
        "  #Function to reverse the List\n",
        "  def reverse(self):\n",
        "    prev=None\n",
        "    current=self.head\n",
        "    while (current is not None):\n",
        "      next=current.next\n",
        "      current.next=prev   # --> become <--\n",
        "      prev=current\n",
        "      current=next\n",
        "    self.head=prev\n",
        "\n",
        "\n",
        "    # Function to insert a new node at the beginning\n",
        "  def push(self, new_data):\n",
        "    new_node = Node(new_data)\n",
        "    new_node.next = self.head\n",
        "    self.head = new_node\n",
        "\n",
        "    # Utility function to print the LinkedList\n",
        "  def printList(self):\n",
        "    temp = self.head\n",
        "    while(temp):\n",
        "      print(temp.data, end=\" \")\n",
        "      temp = temp.next\n",
        "\n",
        "\n",
        "# Driver code\n",
        "llist = LinkedList()\n",
        "llist.push(20)\n",
        "llist.push(4)\n",
        "llist.push(15)\n",
        "llist.push(85)\n",
        "\n",
        "print (\"Given linked list\")\n",
        "llist.printList()\n",
        "llist.reverse()\n",
        "print (\"\\nReversed linked list\")\n",
        "llist.printList()"
      ],
      "metadata": {
        "colab": {
          "base_uri": "https://localhost:8080/"
        },
        "id": "mbD0pONlzP_7",
        "outputId": "27810c5c-010c-49c1-d00b-d8039eb12a06"
      },
      "execution_count": 20,
      "outputs": [
        {
          "output_type": "stream",
          "name": "stdout",
          "text": [
            "Given linked list\n",
            "85 15 4 20 \n",
            "Reversed linked list\n",
            "20 4 15 85 "
          ]
        }
      ]
    },
    {
      "cell_type": "markdown",
      "source": [
        "** Deleting a node from the Beginning**"
      ],
      "metadata": {
        "id": "TOUreGSe8pqa"
      }
    },
    {
      "cell_type": "code",
      "source": [
        "class Node:\n",
        "    def __init__(self, data):\n",
        "        self.data = data\n",
        "        self.next = None\n",
        "\n",
        "class LinkedList:\n",
        "    def __init__(self):\n",
        "        self.head = None\n",
        "\n",
        "    def display(self):\n",
        "        current = self.head\n",
        "        while current:\n",
        "            print(current.data, end=\" -> \")\n",
        "            current = current.next\n",
        "        print(\"None\")\n",
        "\n",
        "    def delete_at_beginning(self):\n",
        "        if self.head:\n",
        "            self.head = self.head.next\n",
        "\n",
        "# Create a linked list with some nodes\n",
        "my_list = LinkedList()\n",
        "my_list.head = Node(1)\n",
        "second_node = Node(2)\n",
        "third_node = Node(3)\n",
        "\n",
        "my_list.head.next = second_node\n",
        "second_node.next = third_node\n",
        "\n",
        "# Display the original linked list\n",
        "print(\"Original Linked List:\")\n",
        "my_list.display()\n",
        "\n",
        "# Delete a node from the beginning\n",
        "my_list.delete_at_beginning()\n",
        "\n",
        "# Display the modified linked list\n",
        "print(\"Linked List after Deleting from the Beginning:\")\n",
        "my_list.display()\n"
      ],
      "metadata": {
        "colab": {
          "base_uri": "https://localhost:8080/"
        },
        "id": "b1pQdCsw2obL",
        "outputId": "4ad5ede8-85a6-4b40-e01f-aef5d5dcac42"
      },
      "execution_count": 27,
      "outputs": [
        {
          "output_type": "stream",
          "name": "stdout",
          "text": [
            "Original Linked List:\n",
            "1 -> 2 -> 3 -> None\n",
            "Linked List after Deleting from the Beginning:\n",
            "2 -> 3 -> None\n"
          ]
        }
      ]
    },
    {
      "cell_type": "code",
      "source": [],
      "metadata": {
        "id": "HO1OKUrbDEKc"
      },
      "execution_count": null,
      "outputs": []
    }
  ]
}