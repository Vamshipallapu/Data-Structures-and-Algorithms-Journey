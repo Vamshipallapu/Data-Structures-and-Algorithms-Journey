{
 "cells": [
  {
   "cell_type": "code",
   "execution_count": 0,
   "metadata": {
    "application/vnd.databricks.v1+cell": {
     "cellMetadata": {
      "byteLimit": 2048000,
      "rowLimit": 10000
     },
     "inputWidgets": {},
     "nuid": "1d1ea808-350e-470f-b3b8-80b92ccf6278",
     "showTitle": true,
     "title": "Odd Even Sorting"
    }
   },
   "outputs": [],
   "source": [
    "##Odd-Even Sorting"
   ]
  },
  {
   "cell_type": "code",
   "execution_count": 0,
   "metadata": {
    "application/vnd.databricks.v1+cell": {
     "cellMetadata": {
      "byteLimit": 2048000,
      "rowLimit": 10000
     },
     "inputWidgets": {},
     "nuid": "ac90d035-aec5-46b0-8ea7-bb14216b0868",
     "showTitle": false,
     "title": ""
    }
   },
   "outputs": [
    {
     "output_type": "stream",
     "name": "stdout",
     "output_type": "stream",
     "text": [
      "Enter list to be sorted\n"
     ]
    },
    {
     "output_type": "display_data",
     "data": {
      "text/plain": [
       " 4 8 2 6 2 5 9 0 1 3 2 7"
      ]
     },
     "metadata": {},
     "output_type": "display_data"
    },
    {
     "output_type": "stream",
     "name": "stdout",
     "output_type": "stream",
     "text": [
      "sorted list is\n[0, 1, 2, 2, 2, 3, 4, 5, 6, 7, 8, 9]\n"
     ]
    }
   ],
   "source": [
    "def odd_even_sort(input_list:list):\n",
    "  is_sorted=False\n",
    "  while is_sorted is False: #until indices are traversed keep looping\n",
    "    is_sorted=True #that means until this condition becomes ok keep doing while tranversing\n",
    "    for i in range(0,len(input_list)-1,2): #here we have taken -1 because index starts from 1 (even iterating   [4 5], [6 7], [8 3])\n",
    "      if input_list[i]>input_list[i+1]:\n",
    "        input_list[i],input_list[i+1]= input_list[i+1],input_list[i] #swapping\n",
    "        is_sorted=False #this means loop will be continue till sorted.\n",
    "    \n",
    "    for i in range(1,len(input_list)-1,2):\n",
    "      if input_list[i]>input_list[i+1]:\n",
    "        input_list[i],input_list[i+1]= input_list[i+1],input_list[i]\n",
    "        is_sorted=False\n",
    "  return input_list\n",
    "\n",
    "\n",
    "if __name__==\"__main__\":\n",
    "  print(\"Enter list to be sorted\")\n",
    "  input_list=[int(x) for x in input().split()] #inputting elements of the list in one line\n",
    "  sorted_list = odd_even_sort(input_list)\n",
    "  print(\"sorted list is\")\n",
    "  print(sorted_list)\n",
    "\n",
    "\n"
   ]
  },
  {
   "cell_type": "code",
   "execution_count": 0,
   "metadata": {
    "application/vnd.databricks.v1+cell": {
     "cellMetadata": {},
     "inputWidgets": {},
     "nuid": "20363f5e-6df1-4183-9b91-24ac92fe8575",
     "showTitle": false,
     "title": ""
    }
   },
   "outputs": [],
   "source": []
  }
 ],
 "metadata": {
  "application/vnd.databricks.v1+notebook": {
   "dashboards": [],
   "language": "python",
   "notebookMetadata": {
    "pythonIndentUnit": 2
   },
   "notebookName": "Odd-Even Sorting",
   "widgets": {}
  }
 },
 "nbformat": 4,
 "nbformat_minor": 0
}
