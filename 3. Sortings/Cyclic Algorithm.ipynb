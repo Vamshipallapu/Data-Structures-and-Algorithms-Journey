{
 "cells": [
  {
   "cell_type": "code",
   "execution_count": 0,
   "metadata": {
    "application/vnd.databricks.v1+cell": {
     "cellMetadata": {
      "byteLimit": 2048000,
      "rowLimit": 10000
     },
     "inputWidgets": {},
     "nuid": "597fc1a7-2d45-4fff-aa71-48b47f065157",
     "showTitle": false,
     "title": ""
    }
   },
   "outputs": [],
   "source": [
    "array=[4,5,2,7,3,1]"
   ]
  },
  {
   "cell_type": "code",
   "execution_count": 0,
   "metadata": {
    "application/vnd.databricks.v1+cell": {
     "cellMetadata": {
      "byteLimit": 2048000,
      "rowLimit": 10000
     },
     "inputWidgets": {},
     "nuid": "2c49293f-0cbb-42cf-853d-3c43588a58fd",
     "showTitle": false,
     "title": ""
    }
   },
   "outputs": [],
   "source": [
    "array_len=len(array)"
   ]
  },
  {
   "cell_type": "code",
   "execution_count": 0,
   "metadata": {
    "application/vnd.databricks.v1+cell": {
     "cellMetadata": {
      "byteLimit": 2048000,
      "rowLimit": 10000
     },
     "inputWidgets": {},
     "nuid": "d107dd3d-4f04-43ed-9e18-287ffadebca4",
     "showTitle": false,
     "title": ""
    }
   },
   "outputs": [
    {
     "output_type": "stream",
     "name": "stdout",
     "output_type": "stream",
     "text": [
      "Out[4]: 6"
     ]
    }
   ],
   "source": [
    "array_len"
   ]
  },
  {
   "cell_type": "code",
   "execution_count": 0,
   "metadata": {
    "application/vnd.databricks.v1+cell": {
     "cellMetadata": {
      "byteLimit": 2048000,
      "rowLimit": 10000
     },
     "inputWidgets": {},
     "nuid": "18ccb309-b9d2-45c7-9a1a-e1c7c6aea294",
     "showTitle": false,
     "title": ""
    }
   },
   "outputs": [
    {
     "output_type": "stream",
     "name": "stdout",
     "output_type": "stream",
     "text": [
      "0\n1\n2\n3\n4\n5\n"
     ]
    }
   ],
   "source": [
    "#last item will be excluded\n",
    "for cycle_start in range(0,6):\n",
    "  item=cycle_start\n",
    "  print(item)"
   ]
  },
  {
   "cell_type": "code",
   "execution_count": 0,
   "metadata": {
    "application/vnd.databricks.v1+cell": {
     "cellMetadata": {
      "byteLimit": 2048000,
      "rowLimit": 10000
     },
     "inputWidgets": {},
     "nuid": "6033c440-039a-4fba-a1a5-6c1e2e0d8f15",
     "showTitle": false,
     "title": ""
    }
   },
   "outputs": [
    {
     "output_type": "stream",
     "name": "stdout",
     "output_type": "stream",
     "text": [
      "0\n1\n2\n3\n4\n"
     ]
    }
   ],
   "source": [
    "#last item will be excluded\n",
    "for cycle_start in range(0,array_len-1):\n",
    "  item=cycle_start\n",
    "  print(item)"
   ]
  },
  {
   "cell_type": "code",
   "execution_count": 0,
   "metadata": {
    "application/vnd.databricks.v1+cell": {
     "cellMetadata": {
      "byteLimit": 2048000,
      "rowLimit": 10000
     },
     "inputWidgets": {},
     "nuid": "e95c64e3-7502-45cc-a53b-c20fb3ad1ace",
     "showTitle": false,
     "title": ""
    }
   },
   "outputs": [
    {
     "output_type": "stream",
     "name": "stdout",
     "output_type": "stream",
     "text": [
      "4\n5\n2\n7\n3\n"
     ]
    }
   ],
   "source": [
    "for cycle_start in range(0,array_len-1):\n",
    "  item=array[cycle_start]\n",
    "  print(item)"
   ]
  },
  {
   "cell_type": "code",
   "execution_count": 0,
   "metadata": {
    "application/vnd.databricks.v1+cell": {
     "cellMetadata": {
      "byteLimit": 2048000,
      "rowLimit": 10000
     },
     "inputWidgets": {},
     "nuid": "e1af9897-d8db-4028-a1c5-a81cf30ad96b",
     "showTitle": false,
     "title": ""
    }
   },
   "outputs": [
    {
     "output_type": "stream",
     "name": "stdout",
     "output_type": "stream",
     "text": [
      "0\n1\n2\n3\n4\n"
     ]
    }
   ],
   "source": [
    "#cycle_start = 0 1 2 3 4\n",
    "#item = 4 5 2 7 3\n",
    "for cycle_start in range(0,array_len-1):\n",
    "  item=array[cycle_start]\n",
    "  pos=cycle_start\n",
    "  print(pos)"
   ]
  },
  {
   "cell_type": "code",
   "execution_count": 0,
   "metadata": {
    "application/vnd.databricks.v1+cell": {
     "cellMetadata": {
      "byteLimit": 2048000,
      "rowLimit": 10000
     },
     "inputWidgets": {},
     "nuid": "381066dd-a617-4bff-99c5-8a3b41361e6d",
     "showTitle": false,
     "title": ""
    }
   },
   "outputs": [
    {
     "output_type": "stream",
     "name": "stdout",
     "output_type": "stream",
     "text": [
      "1\n2\n3\n4\n5\n2\n3\n4\n5\n3\n4\n5\n4\n5\n5\n"
     ]
    }
   ],
   "source": [
    "#cycle_start= 0 1 2 3 4\n",
    "#item = 4 5 2 7 3\n",
    "#pos = 0 1 2 3 4 \n",
    "for cycle_start in range(0,array_len-1):\n",
    "  item=array[cycle_start]\n",
    "  pos=cycle_start\n",
    "  for i in range(cycle_start+1,array_len):\n",
    "    print(i)"
   ]
  },
  {
   "cell_type": "code",
   "execution_count": 0,
   "metadata": {
    "application/vnd.databricks.v1+cell": {
     "cellMetadata": {
      "byteLimit": 2048000,
      "rowLimit": 10000
     },
     "inputWidgets": {},
     "nuid": "1ba52b66-ff49-471a-8528-1e5c9afa086e",
     "showTitle": false,
     "title": ""
    }
   },
   "outputs": [
    {
     "output_type": "stream",
     "name": "stdout",
     "output_type": "stream",
     "text": [
      "1\n2\n3\n2\n3\n4\n3\n4\n5\n5\n"
     ]
    }
   ],
   "source": [
    "#cycle_start= 0 1 2 3 4\n",
    "#item = 4 5 2 7 3\n",
    "#pos = 0 1 2 3 4 \n",
    "#array = 4,5,2,7,3,1\n",
    "#len(array)= 6\n",
    "# i = 1 2 3 4 5 2 3 4 5 3 4 5 4 5 5\n",
    "for cycle_start in range(0,array_len-1):\n",
    "  item=array[cycle_start]\n",
    "  pos=cycle_start\n",
    "  for i in range(cycle_start+1,array_len):\n",
    "    if array[i]<item:\n",
    "       pos+=1 #intially pos=0\n",
    "       print(pos)\n",
    "#checking how many elements are smaller than array[i]"
   ]
  },
  {
   "cell_type": "code",
   "execution_count": 0,
   "metadata": {
    "application/vnd.databricks.v1+cell": {
     "cellMetadata": {},
     "inputWidgets": {},
     "nuid": "3fd418c3-df5a-4829-ad05-7ca30f6c0948",
     "showTitle": false,
     "title": ""
    }
   },
   "outputs": [],
   "source": [
    "#cycle_start= 0 1 2 3 4\n",
    "#item = 4 5 2 7 3\n",
    "#pos = 0 1 2 3 4 \n",
    "#array = 4,5,2,7,3,1\n",
    "#len(array)= 6\n",
    "# i = 1 2 3 4 5 2 3 4 5 3 4 5 4 5 5\n",
    "for cycle_start in range(0,array_len-1):\n",
    "  item=array[cycle_start]\n",
    "  pos=cycle_start\n",
    "  for i in range(cycle_start+1,array_len):\n",
    "    if array[i]<item:\n",
    "       pos+=1 #intially pos=0\n",
    "       print(pos)\n",
    "#checking how many elements are smaller than array[i]\n",
    "  if pos==cycle_start:\n",
    "    continue  #making pos should not be greater than pos\n",
    "  while item == array[pos]:\n",
    "    pos+=1\n",
    "    # this means if N elements are lesser than item place it in same pos\n",
    "    "
   ]
  },
  {
   "cell_type": "code",
   "execution_count": 0,
   "metadata": {
    "application/vnd.databricks.v1+cell": {
     "cellMetadata": {
      "byteLimit": 2048000,
      "rowLimit": 10000
     },
     "inputWidgets": {},
     "nuid": "0d7a47d4-2b4d-47b8-b390-82466eee6e8e",
     "showTitle": false,
     "title": ""
    }
   },
   "outputs": [
    {
     "output_type": "stream",
     "name": "stdout",
     "output_type": "stream",
     "text": [
      "[1, 2, 3, 4, 5, 7]\n"
     ]
    }
   ],
   "source": [
    "def cycle_sort(array:list):\n",
    "  array_len=len(array)\n",
    "  for cycle_start in range(0,array_len-1):\n",
    "    item=array[cycle_start]\n",
    "    pos=cycle_start\n",
    "    for i in range(cycle_start+1,array_len):\n",
    "      if array[i]<item:\n",
    "        pos+=1\n",
    "    if pos == cycle_start:\n",
    "      continue\n",
    "    while item == array[pos]:\n",
    "      pos+=1\n",
    "    \n",
    "    array[pos],item = item, array[pos]\n",
    "    while pos!=cycle_start:\n",
    "      pos=cycle_start\n",
    "      for i in range(cycle_start+1,array_len):\n",
    "        if array[i]<item:\n",
    "          pos+=1\n",
    "      while item == array[pos]:\n",
    "        pos+=1\n",
    "      array[pos], item = item, array[pos]\n",
    "  print(array)\n",
    "\n",
    "\n",
    "\n",
    "  return array\n",
    "\n",
    "\n",
    "if __name__==\"__main__\"    :\n",
    "  assert cycle_sort([4,5,2,7,3,1]) == [1,2,3,4,5,7]\n"
   ]
  },
  {
   "cell_type": "code",
   "execution_count": 0,
   "metadata": {
    "application/vnd.databricks.v1+cell": {
     "cellMetadata": {},
     "inputWidgets": {},
     "nuid": "4a2c7970-a2fc-4abb-9a4c-932f13eda2df",
     "showTitle": false,
     "title": ""
    }
   },
   "outputs": [],
   "source": []
  }
 ],
 "metadata": {
  "application/vnd.databricks.v1+notebook": {
   "dashboards": [],
   "language": "python",
   "notebookMetadata": {
    "pythonIndentUnit": 2
   },
   "notebookName": "Cyclic Algorithm",
   "widgets": {}
  }
 },
 "nbformat": 4,
 "nbformat_minor": 0
}
