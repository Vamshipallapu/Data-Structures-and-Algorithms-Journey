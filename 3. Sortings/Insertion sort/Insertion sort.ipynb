{
 "cells": [
  {
   "cell_type": "code",
   "execution_count": 0,
   "metadata": {
    "application/vnd.databricks.v1+cell": {
     "cellMetadata": {
      "byteLimit": 2048000,
      "rowLimit": 10000
     },
     "inputWidgets": {},
     "nuid": "416de2d2-4d72-4301-b0a6-981f55c731af",
     "showTitle": false,
     "title": ""
    }
   },
   "outputs": [],
   "source": [
    "# Insertion Sort"
   ]
  },
  {
   "cell_type": "code",
   "execution_count": 0,
   "metadata": {
    "application/vnd.databricks.v1+cell": {
     "cellMetadata": {
      "byteLimit": 2048000,
      "rowLimit": 10000
     },
     "inputWidgets": {},
     "nuid": "c503bd60-ac4d-4a90-89ac-72bb7f0486cf",
     "showTitle": false,
     "title": ""
    }
   },
   "outputs": [],
   "source": [
    "\n",
    "\n",
    "def insertion_sort(collection:list):\n",
    "  for i,j in enumerate(collection[1:]):\n",
    "    temp=i\n",
    "    while i>=0 and j<collection[i]:\n",
    "      collection[i+1] = collection[i]\n",
    "      i-=1\n",
    "    if i!= temp:\n",
    "      collection[i+1] = j\n",
    "  return collection\n",
    "\n",
    "if __name__==\"__main__\"    :\n",
    "  assert insertion_sort([4,5,2,7,3,1]) == [1,2,3,4,5,7]\n"
   ]
  },
  {
   "cell_type": "code",
   "execution_count": 0,
   "metadata": {
    "application/vnd.databricks.v1+cell": {
     "cellMetadata": {
      "byteLimit": 2048000,
      "rowLimit": 10000
     },
     "inputWidgets": {},
     "nuid": "0130a0ff-e2e0-4189-9981-7ba17c27a494",
     "showTitle": false,
     "title": ""
    }
   },
   "outputs": [],
   "source": [
    "def insertion_sort(collection:list):\n",
    "      for insert_index, insert_value in enumerate(collection[1:]):\n",
    "        temp_index = insert_index\n",
    "        while insert_index >= 0 and insert_value < collection[insert_index]:\n",
    "            collection[insert_index + 1] = collection[insert_index]\n",
    "            insert_index -= 1\n",
    "        if insert_index != temp_index:\n",
    "            collection[insert_index + 1] = insert_value\n",
    "      return collection\n",
    "if __name__==\"__main__\":\n",
    "  assert insertion_sort([4,5,2,7,3,1]) == [1,2,3,4,5,7]  \n"
   ]
  },
  {
   "cell_type": "code",
   "execution_count": 0,
   "metadata": {
    "application/vnd.databricks.v1+cell": {
     "cellMetadata": {},
     "inputWidgets": {},
     "nuid": "bb20d4c7-5220-4e7e-a207-a042488b74ff",
     "showTitle": false,
     "title": ""
    }
   },
   "outputs": [],
   "source": []
  }
 ],
 "metadata": {
  "application/vnd.databricks.v1+notebook": {
   "dashboards": [],
   "language": "python",
   "notebookMetadata": {
    "pythonIndentUnit": 2
   },
   "notebookName": "Insertion sort",
   "widgets": {}
  }
 },
 "nbformat": 4,
 "nbformat_minor": 0
}
